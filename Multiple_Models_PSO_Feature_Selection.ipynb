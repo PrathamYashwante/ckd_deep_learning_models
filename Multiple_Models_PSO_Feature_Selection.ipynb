{
  "cells": [
    {
      "cell_type": "code",
      "execution_count": null,
      "metadata": {
        "colab": {
          "base_uri": "https://localhost:8080/"
        },
        "id": "Rt6J0IfWlEpE",
        "outputId": "6658dca1-ca51-45dc-bc76-dd8910998ede"
      },
      "outputs": [
        {
          "name": "stdout",
          "output_type": "stream",
          "text": [
            "\u001b[?25l     \u001b[90m━━━━━━━━━━━━━━━━━━━━━━━━━━━━━━━━━━━━━━━━\u001b[0m \u001b[32m0.0/181.9 kB\u001b[0m \u001b[31m?\u001b[0m eta \u001b[36m-:--:--\u001b[0m\r\u001b[2K     \u001b[91m━━━━━━━━━━━━━━━━━━━━━━━━━━━━━━━━━━━━━━\u001b[0m\u001b[90m╺\u001b[0m\u001b[90m━\u001b[0m \u001b[32m174.1/181.9 kB\u001b[0m \u001b[31m5.4 MB/s\u001b[0m eta \u001b[36m0:00:01\u001b[0m\r\u001b[2K     \u001b[90m━━━━━━━━━━━━━━━━━━━━━━━━━━━━━━━━━━━━━━━━\u001b[0m \u001b[32m181.9/181.9 kB\u001b[0m \u001b[31m4.4 MB/s\u001b[0m eta \u001b[36m0:00:00\u001b[0m\n",
            "\u001b[?25h"
          ]
        }
      ],
      "source": [
        "!pip --q install niapy"
      ]
    },
    {
      "cell_type": "code",
      "execution_count": null,
      "metadata": {
        "id": "dbHLykEflLzK"
      },
      "outputs": [],
      "source": [
        "import pandas as pd"
      ]
    },
    {
      "cell_type": "code",
      "execution_count": null,
      "metadata": {
        "id": "tIF2kzkHlJZi"
      },
      "outputs": [],
      "source": [
        "data_path = '/content/allData800 final (1).csv'\n",
        "df = pd.read_csv(data_path)"
      ]
    },
    {
      "cell_type": "code",
      "execution_count": null,
      "metadata": {
        "id": "2Kh-C1xRnYq8"
      },
      "outputs": [],
      "source": [
        "from sklearn.model_selection import train_test_split, cross_val_score\n",
        "from sklearn.svm import SVC\n",
        "from sklearn.neural_network import MLPClassifier\n",
        "from sklearn.ensemble import RandomForestClassifier\n",
        "from xgboost import XGBClassifier\n",
        "from niapy.problems import Problem\n",
        "from niapy.task import Task\n",
        "from niapy.algorithms.basic import ParticleSwarmOptimization"
      ]
    },
    {
      "cell_type": "code",
      "execution_count": null,
      "metadata": {
        "id": "9qk50o2wnbFd"
      },
      "outputs": [],
      "source": [
        "X = df.drop(columns=['classification']).values\n",
        "y = df['classification'].map({'ckd': 1, 'notckd': 0}).values"
      ]
    },
    {
      "cell_type": "code",
      "execution_count": null,
      "metadata": {
        "id": "xUFelhStndAz"
      },
      "outputs": [],
      "source": [
        "class FeatureSelectionProblem(Problem):\n",
        "    def __init__(self, X_train, y_train, classifier, alpha=0.001):\n",
        "        super().__init__(dimension=X_train.shape[1], lower=0, upper=1)\n",
        "        self.X_train = X_train\n",
        "        self.y_train = y_train\n",
        "        self.classifier = classifier\n",
        "        self.alpha = alpha\n",
        "\n",
        "    def _evaluate(self, x):\n",
        "        selected = x > 0.5\n",
        "        num_selected = selected.sum()\n",
        "        if num_selected < 4:\n",
        "            return 1.0\n",
        "        accuracy = cross_val_score(self.classifier, self.X_train[:, selected], self.y_train, cv=2, n_jobs=-1).mean()\n",
        "        score = 1 - accuracy\n",
        "        num_features = self.X_train.shape[1]\n",
        "        return self.alpha * score + (1 - self.alpha) * (num_selected / num_features)\n"
      ]
    },
    {
      "cell_type": "code",
      "execution_count": null,
      "metadata": {
        "id": "q_TYg14gneqE"
      },
      "outputs": [],
      "source": [
        "from sklearn.base import BaseEstimator, ClassifierMixin\n",
        "\n",
        "class ClassifierWrapper(BaseEstimator, ClassifierMixin):\n",
        "    def __init__(self, classifier):\n",
        "        self.classifier = classifier\n",
        "\n",
        "    def fit(self, X, y):\n",
        "        self.classifier.fit(X, y)\n",
        "        return self\n",
        "\n",
        "    def predict(self, X):\n",
        "        return self.classifier.predict(X)\n",
        "\n",
        "    def score(self, X, y):\n",
        "        return self.classifier.score(X, y)"
      ]
    },
    {
      "cell_type": "code",
      "execution_count": null,
      "metadata": {
        "id": "ALJr84NsnfvN"
      },
      "outputs": [],
      "source": [
        "X_train, X_test, y_train, y_test = train_test_split(X, y, test_size=0.2, stratify=y, random_state=1234)"
      ]
    },
    {
      "cell_type": "code",
      "execution_count": null,
      "metadata": {
        "id": "bDeKHD3_nird"
      },
      "outputs": [],
      "source": [
        "# Create and run the PSO algorithm for SVM\n",
        "svm_classifier = ClassifierWrapper(SVC())\n",
        "svm_problem = FeatureSelectionProblem(X_train, y_train, svm_classifier)\n",
        "svm_task = Task(svm_problem, max_iters=100)\n",
        "svm_algorithm = ParticleSwarmOptimization(population_size=10, seed=1234)\n",
        "svm_best_features, svm_best_fitness = svm_algorithm.run(svm_task)"
      ]
    },
    {
      "cell_type": "code",
      "execution_count": null,
      "metadata": {
        "colab": {
          "base_uri": "https://localhost:8080/"
        },
        "id": "ZFy1JCRenlXu",
        "outputId": "06de119a-45a2-4baa-95cb-d32b868c4dd9"
      },
      "outputs": [
        {
          "name": "stdout",
          "output_type": "stream",
          "text": [
            "SVM - Number of selected features: 4\n"
          ]
        }
      ],
      "source": [
        "# Get the selected features for SVM\n",
        "svm_selected_features = svm_best_features > 0.5\n",
        "print('SVM - Number of selected features:', svm_selected_features.sum())"
      ]
    },
    {
      "cell_type": "code",
      "execution_count": null,
      "metadata": {
        "colab": {
          "background_save": true
        },
        "id": "53GEhJ6tnkQM"
      },
      "outputs": [],
      "source": [
        "# Create and run the PSO algorithm for MLP\n",
        "mlp_classifier = ClassifierWrapper(MLPClassifier())\n",
        "mlp_problem = FeatureSelectionProblem(X_train, y_train, mlp_classifier)\n",
        "mlp_task = Task(mlp_problem, max_iters=100)\n",
        "mlp_algorithm = ParticleSwarmOptimization(population_size=10, seed=1234)\n",
        "mlp_best_features, mlp_best_fitness = mlp_algorithm.run(mlp_task)\n"
      ]
    },
    {
      "cell_type": "code",
      "execution_count": null,
      "metadata": {
        "colab": {
          "background_save": true
        },
        "id": "u0-Xqn1qnl_7",
        "outputId": "7e07cc2a-44eb-4cb6-d584-dfe4c88a59a8"
      },
      "outputs": [
        {
          "name": "stdout",
          "output_type": "stream",
          "text": [
            "MLP - Number of selected features: 4\n"
          ]
        }
      ],
      "source": [
        "# Get the selected features for MLP\n",
        "mlp_selected_features = mlp_best_features > 0.5\n",
        "print('MLP - Number of selected features:', mlp_selected_features.sum())\n"
      ]
    },
    {
      "cell_type": "code",
      "execution_count": null,
      "metadata": {
        "id": "abx7kQuynm0r"
      },
      "outputs": [],
      "source": [
        "# Create and run the PSO algorithm for Random Forest\n",
        "rf_classifier = ClassifierWrapper(RandomForestClassifier())\n",
        "rf_problem = FeatureSelectionProblem(X_train, y_train, rf_classifier)\n",
        "rf_task = Task(rf_problem, max_iters=100)\n",
        "rf_algorithm = ParticleSwarmOptimization(population_size=10, seed=1234)\n",
        "rf_best_features, rf_best_fitness = rf_algorithm.run(rf_task)\n"
      ]
    },
    {
      "cell_type": "code",
      "execution_count": null,
      "metadata": {
        "colab": {
          "base_uri": "https://localhost:8080/"
        },
        "id": "nv648mytnolk",
        "outputId": "92e1a517-0d26-47b2-aefc-a925b60a1e99"
      },
      "outputs": [
        {
          "name": "stdout",
          "output_type": "stream",
          "text": [
            "Random Forest - Number of selected features: 4\n"
          ]
        }
      ],
      "source": [
        "# Get the selected features for Random Forest\n",
        "rf_selected_features = rf_best_features > 0.5\n",
        "print('Random Forest - Number of selected features:', rf_selected_features.sum())\n"
      ]
    },
    {
      "cell_type": "code",
      "execution_count": null,
      "metadata": {
        "id": "vDqgnqu8npiT"
      },
      "outputs": [],
      "source": [
        "# Create and run the PSO algorithm for XGBoost\n",
        "xgb_classifier = ClassifierWrapper(XGBClassifier())\n",
        "xgb_problem = FeatureSelectionProblem(X_train, y_train, xgb_classifier)\n",
        "xgb_task = Task(xgb_problem, max_iters=100)\n",
        "xgb_algorithm = ParticleSwarmOptimization(population_size=10, seed=1234)\n",
        "xgb_best_features, xgb_best_fitness = xgb_algorithm.run(xgb_task)\n"
      ]
    },
    {
      "cell_type": "code",
      "execution_count": null,
      "metadata": {
        "colab": {
          "base_uri": "https://localhost:8080/"
        },
        "id": "CV20_j-xnqgc",
        "outputId": "b51a9ffa-661c-4aef-eb4b-dd2e26704104"
      },
      "outputs": [
        {
          "name": "stdout",
          "output_type": "stream",
          "text": [
            "XGBoost - Number of selected features: 4\n"
          ]
        }
      ],
      "source": [
        "# Get the selected features for XGBoost\n",
        "xgb_selected_features = xgb_best_features > 0.5\n",
        "print('XGBoost - Number of selected features:', xgb_selected_features.sum())\n"
      ]
    },
    {
      "cell_type": "code",
      "execution_count": null,
      "metadata": {
        "colab": {
          "base_uri": "https://localhost:8080/"
        },
        "id": "Ez-dKG8Enril",
        "outputId": "12b31983-7494-425d-dc2d-f74f811e6f5e"
      },
      "outputs": [
        {
          "name": "stdout",
          "output_type": "stream",
          "text": [
            "SVM - Selected features: vol, pot, glob, ane\n",
            "MLP - Selected features: vol, pot, glob, ane\n",
            "Random Forest - Selected features: sg, chlo, bun, ane\n",
            "XGBoost - Selected features: sg, chlo, bun, ane\n"
          ]
        }
      ],
      "source": [
        "# Print the selected feature names for SVM\n",
        "feature_names = df.drop(columns=['classification']).columns\n",
        "print('SVM - Selected features:', ', '.join(feature_names[svm_selected_features].tolist()))\n",
        "svm_selected_feature_names = feature_names[svm_selected_features].tolist()\n",
        "# Print the selected feature names for MLP\n",
        "print('MLP - Selected features:', ', '.join(feature_names[svm_selected_features].tolist()))\n",
        "mlp_selected_feature_names = feature_names[svm_selected_features].tolist()\n",
        "# Print the selected feature names for Random Forest\n",
        "print('Random Forest - Selected features:', ', '.join(feature_names[rf_selected_features].tolist()))\n",
        "rf_selected_feature_names = feature_names[rf_selected_features].tolist()\n",
        "# Print the selected feature names for XGBoost\n",
        "print('XGBoost - Selected features:', ', '.join(feature_names[xgb_selected_features].tolist()))\n",
        "xgb_selected_feature_names = feature_names[xgb_selected_features].tolist()"
      ]
    },
    {
      "cell_type": "code",
      "execution_count": null,
      "metadata": {
        "colab": {
          "base_uri": "https://localhost:8080/"
        },
        "id": "HDrr37b_zUGJ",
        "outputId": "e17cb2a8-1f2c-48ef-b2b0-b84f6e82ce43"
      },
      "outputs": [
        {
          "data": {
            "text/plain": [
              "['vol', 'pot', 'glob', 'ane']"
            ]
          },
          "execution_count": 43,
          "metadata": {},
          "output_type": "execute_result"
        }
      ],
      "source": [
        "svm_selected_feature_names"
      ]
    },
    {
      "cell_type": "code",
      "execution_count": null,
      "metadata": {
        "colab": {
          "base_uri": "https://localhost:8080/"
        },
        "id": "TyyIfOe4z1xo",
        "outputId": "31c8da09-e1f2-437c-86bb-44a27df31254"
      },
      "outputs": [
        {
          "data": {
            "text/plain": [
              "['vol', 'pot', 'glob', 'ane']"
            ]
          },
          "execution_count": 44,
          "metadata": {},
          "output_type": "execute_result"
        }
      ],
      "source": [
        "mlp_selected_feature_names"
      ]
    },
    {
      "cell_type": "code",
      "execution_count": null,
      "metadata": {
        "colab": {
          "base_uri": "https://localhost:8080/"
        },
        "id": "t4L9er-Tz2oI",
        "outputId": "843af00a-1658-4fa2-e9aa-420163e46c86"
      },
      "outputs": [
        {
          "data": {
            "text/plain": [
              "['sg', 'chlo', 'bun', 'ane']"
            ]
          },
          "execution_count": 45,
          "metadata": {},
          "output_type": "execute_result"
        }
      ],
      "source": [
        "rf_selected_feature_names"
      ]
    },
    {
      "cell_type": "code",
      "execution_count": null,
      "metadata": {
        "colab": {
          "base_uri": "https://localhost:8080/"
        },
        "id": "r0ZYX2Mdz3SQ",
        "outputId": "a306e6bc-8bb6-44ba-a7cd-a288839ebc5c"
      },
      "outputs": [
        {
          "data": {
            "text/plain": [
              "['sg', 'chlo', 'bun', 'ane']"
            ]
          },
          "execution_count": 46,
          "metadata": {},
          "output_type": "execute_result"
        }
      ],
      "source": [
        "xgb_selected_feature_names"
      ]
    },
    {
      "cell_type": "code",
      "execution_count": null,
      "metadata": {
        "colab": {
          "base_uri": "https://localhost:8080/"
        },
        "id": "t0KsHD4CyzIo",
        "outputId": "f44acc0e-f4bf-4f82-8a2f-681125562b94"
      },
      "outputs": [
        {
          "data": {
            "text/plain": [
              "['vol',\n",
              " 'pot',\n",
              " 'glob',\n",
              " 'ane',\n",
              " 'vol',\n",
              " 'pot',\n",
              " 'glob',\n",
              " 'ane',\n",
              " 'sg',\n",
              " 'chlo',\n",
              " 'bun',\n",
              " 'ane',\n",
              " 'sg',\n",
              " 'chlo',\n",
              " 'bun',\n",
              " 'ane']"
            ]
          },
          "execution_count": 47,
          "metadata": {},
          "output_type": "execute_result"
        }
      ],
      "source": [
        "# Combine all features\n",
        "all_features = svm_selected_feature_names + mlp_selected_feature_names + rf_selected_feature_names + xgb_selected_feature_names\n",
        "\n",
        "all_features"
      ]
    },
    {
      "cell_type": "code",
      "execution_count": null,
      "metadata": {
        "colab": {
          "base_uri": "https://localhost:8080/"
        },
        "id": "7ifmQS8o0HdI",
        "outputId": "bbe3d25c-9a6d-46cf-80d0-edd084910a50"
      },
      "outputs": [
        {
          "name": "stdout",
          "output_type": "stream",
          "text": [
            "Final Selected Features: ['vol', 'pot', 'glob', 'ane', 'sg', 'chlo', 'bun']\n"
          ]
        }
      ],
      "source": [
        "from collections import Counter\n",
        "\n",
        "\n",
        "feature_counts = Counter(all_features)\n",
        "final_selected_features = [feature for feature, count in feature_counts.items() if count >= 2]\n",
        "\n",
        "print(\"Final Selected Features:\", final_selected_features)"
      ]
    },
    {
      "cell_type": "code",
      "execution_count": null,
      "metadata": {
        "colab": {
          "base_uri": "https://localhost:8080/"
        },
        "id": "Otq54sTS0xng",
        "outputId": "a2a0f977-019e-4d1b-937d-c838fd5398f9"
      },
      "outputs": [
        {
          "data": {
            "text/plain": [
              "numpy.ndarray"
            ]
          },
          "execution_count": 58,
          "metadata": {},
          "output_type": "execute_result"
        }
      ],
      "source": [
        "type(svm_selected_features)"
      ]
    },
    {
      "cell_type": "code",
      "execution_count": null,
      "metadata": {
        "colab": {
          "base_uri": "https://localhost:8080/"
        },
        "id": "2wVabav91ynG",
        "outputId": "ad14919c-857a-43e1-ea03-827b5e3acbb0"
      },
      "outputs": [
        {
          "name": "stdout",
          "output_type": "stream",
          "text": [
            "\n",
            "Final Selected Features Array:\n",
            "[False False  True  True False False  True  True False False False  True\n",
            " False False  True False False False False False  True]\n"
          ]
        }
      ],
      "source": [
        "feature_counts_X = df.drop(columns=['classification']).apply(lambda col: col.value_counts().to_dict())\n",
        "final_selected_features_array = df.drop(columns=['classification']).columns.isin(final_selected_features)\n",
        "\n",
        "print(\"\\nFinal Selected Features Array:\")\n",
        "print(final_selected_features_array)"
      ]
    },
    {
      "cell_type": "code",
      "execution_count": null,
      "metadata": {
        "colab": {
          "base_uri": "https://localhost:8080/"
        },
        "id": "c4ilVsCsnsnL",
        "outputId": "32bc49a2-939a-4cc8-9b67-e772c42e4a5a"
      },
      "outputs": [
        {
          "name": "stdout",
          "output_type": "stream",
          "text": [
            "SVM - Subset accuracy: 0.98125\n",
            "SVM - All Features Accuracy: 0.78125\n"
          ]
        }
      ],
      "source": [
        "svm_model_selected = SVC()\n",
        "svm_model_all = SVC()\n",
        "svm_model_selected.fit(X_train[:, svm_selected_features], y_train)\n",
        "svm_model_all.fit(X_train, y_train)\n",
        "print('SVM - Subset accuracy:', svm_model_selected.score(X_test[:, svm_selected_features], y_test))\n",
        "print('SVM - All Features Accuracy:', svm_model_all.score(X_test, y_test))"
      ]
    },
    {
      "cell_type": "code",
      "execution_count": null,
      "metadata": {
        "colab": {
          "base_uri": "https://localhost:8080/"
        },
        "id": "BTLiBuWknt17",
        "outputId": "bcd99a9d-c9a8-411f-de8a-bae74de814eb"
      },
      "outputs": [
        {
          "name": "stdout",
          "output_type": "stream",
          "text": [
            "MLP - Subset accuracy: 0.94375\n",
            "MLP - All Features Accuracy: 0.76875\n"
          ]
        }
      ],
      "source": [
        "# Train models with selected and all features for MLP\n",
        "mlp_model_selected = MLPClassifier(max_iter=1000, early_stopping=True)\n",
        "mlp_model_all = MLPClassifier(max_iter=1000, early_stopping=True)\n",
        "mlp_model_selected.fit(X_train[:, mlp_selected_features], y_train)\n",
        "mlp_model_all.fit(X_train, y_train)\n",
        "print('MLP - Subset accuracy:', mlp_model_selected.score(X_test[:, mlp_selected_features], y_test))\n",
        "print('MLP - All Features Accuracy:', mlp_model_all.score(X_test, y_test))\n"
      ]
    }
  ],
  "metadata": {
    "accelerator": "GPU",
    "colab": {
      "provenance": []
    },
    "kernelspec": {
      "display_name": "Python 3",
      "name": "python3"
    },
    "language_info": {
      "name": "python"
    }
  },
  "nbformat": 4,
  "nbformat_minor": 0
}