{
  "nbformat": 4,
  "nbformat_minor": 0,
  "metadata": {
    "colab": {
      "provenance": []
    },
    "kernelspec": {
      "name": "python3",
      "display_name": "Python 3"
    },
    "language_info": {
      "name": "python"
    }
  },
  "cells": [
    {
      "cell_type": "code",
      "execution_count": null,
      "metadata": {
        "colab": {
          "base_uri": "https://localhost:8080/"
        },
        "id": "1s0zmoRFRo_r",
        "outputId": "e3da2928-040c-4bf4-a279-5e40017c07b2"
      },
      "outputs": [
        {
          "output_type": "stream",
          "name": "stdout",
          "text": [
            "\u001b[?25l     \u001b[90m━━━━━━━━━━━━━━━━━━━━━━━━━━━━━━━━━━━━━━━━\u001b[0m \u001b[32m0.0/104.1 kB\u001b[0m \u001b[31m?\u001b[0m eta \u001b[36m-:--:--\u001b[0m\r\u001b[2K     \u001b[90m━━━━━━━━━━━━━━━━━━━━━━━━━━━━━━━━━━━━━━━━\u001b[0m \u001b[32m104.1/104.1 kB\u001b[0m \u001b[31m3.7 MB/s\u001b[0m eta \u001b[36m0:00:00\u001b[0m\n",
            "\u001b[?25h"
          ]
        }
      ],
      "source": [
        "!pip  --q install pandas numpy scikit-learn pyswarms"
      ]
    },
    {
      "cell_type": "code",
      "source": [],
      "metadata": {
        "id": "D--z6gZLHvEN"
      },
      "execution_count": null,
      "outputs": []
    },
    {
      "cell_type": "code",
      "source": [
        "!pip install pyswarm"
      ],
      "metadata": {
        "colab": {
          "base_uri": "https://localhost:8080/"
        },
        "id": "dkpa4LvHTrT4",
        "outputId": "8fd8d8f7-42a0-4717-a2fc-b58b36dd1b52"
      },
      "execution_count": null,
      "outputs": [
        {
          "output_type": "stream",
          "name": "stdout",
          "text": [
            "Collecting pyswarm\n",
            "  Downloading pyswarm-0.6.tar.gz (4.3 kB)\n",
            "  Preparing metadata (setup.py) ... \u001b[?25l\u001b[?25hdone\n",
            "Requirement already satisfied: numpy in /usr/local/lib/python3.10/dist-packages (from pyswarm) (1.23.5)\n",
            "Building wheels for collected packages: pyswarm\n",
            "  Building wheel for pyswarm (setup.py) ... \u001b[?25l\u001b[?25hdone\n",
            "  Created wheel for pyswarm: filename=pyswarm-0.6-py3-none-any.whl size=4463 sha256=1ef91e59985924810288a0a5a4ca0eb0b732b1b14ae9a80e682f599dce164316\n",
            "  Stored in directory: /root/.cache/pip/wheels/71/67/40/62fa158f497f942277cbab8199b05cb61c571ab324e67ad0d6\n",
            "Successfully built pyswarm\n",
            "Installing collected packages: pyswarm\n",
            "Successfully installed pyswarm-0.6\n"
          ]
        }
      ]
    },
    {
      "cell_type": "code",
      "source": [
        "import pandas as pd\n",
        "import numpy as np\n",
        "from sklearn.model_selection import train_test_split\n",
        "from sklearn.preprocessing import StandardScaler\n",
        "from sklearn.neural_network import MLPClassifier\n",
        "from sklearn.metrics import accuracy_score, classification_report\n",
        "from pyswarm import pso"
      ],
      "metadata": {
        "id": "GrujrZW1Tm8x"
      },
      "execution_count": null,
      "outputs": []
    },
    {
      "cell_type": "code",
      "source": [
        "data_path = '/content/allData800 final.csv'\n",
        "df = pd.read_csv(data_path)"
      ],
      "metadata": {
        "id": "fdlGIJ3RTnaI"
      },
      "execution_count": null,
      "outputs": []
    },
    {
      "cell_type": "code",
      "source": [
        "X = df.drop(['classification'], axis=1)\n",
        "y = df['classification']"
      ],
      "metadata": {
        "id": "f9lA49dFTxw6"
      },
      "execution_count": null,
      "outputs": []
    },
    {
      "cell_type": "code",
      "source": [
        "X_train, X_test, y_train, y_test = train_test_split(X, y, test_size=0.2, random_state=42)"
      ],
      "metadata": {
        "id": "E-3sfSxyTytw"
      },
      "execution_count": null,
      "outputs": []
    },
    {
      "cell_type": "code",
      "source": [
        "scaler = StandardScaler()\n",
        "X_train_scaled = scaler.fit_transform(X_train)\n",
        "X_test_scaled = scaler.transform(X_test)"
      ],
      "metadata": {
        "id": "dPDdCGp_TzF3"
      },
      "execution_count": null,
      "outputs": []
    },
    {
      "cell_type": "code",
      "source": [
        "def objective_function(features, X_train, X_test, y_train, y_test):\n",
        "    features = np.array(features).astype(int)\n",
        "    features_idx = np.where(features)[0]\n",
        "\n",
        "    if len(features_idx) == 0:\n",
        "        return 1.0\n",
        "\n",
        "    clf = MLPClassifier(hidden_layer_sizes=(10, ), max_iter=1000, random_state=42)\n",
        "    clf.fit(X_train[:, features_idx], y_train)\n",
        "\n",
        "    y_pred = clf.predict(X_test[:, features_idx])\n",
        "\n",
        "    accuracy = accuracy_score(y_test, y_pred)\n",
        "    return -accuracy"
      ],
      "metadata": {
        "id": "AypMsZCOT1W_"
      },
      "execution_count": null,
      "outputs": []
    },
    {
      "cell_type": "code",
      "source": [
        "lb = [0] * X_train_scaled.shape[1]\n",
        "ub = [1] * X_train_scaled.shape[1]\n",
        "options = {'swarmsize': 10, 'maxiter': 10, 'debug': True}\n",
        "\n",
        "best_features, _ =  pso(objective_function, lb, ub, args=(X_train_scaled, X_test_scaled, y_train, y_test), **options)"
      ],
      "metadata": {
        "colab": {
          "base_uri": "https://localhost:8080/"
        },
        "id": "95N-r6oHT4jo",
        "outputId": "b6ab8dd4-73c9-4c34-da42-b1ea726d0b62"
      },
      "execution_count": null,
      "outputs": [
        {
          "output_type": "stream",
          "name": "stdout",
          "text": [
            "No constraints given.\n",
            "New best for swarm at iteration 1: [0.68335882 0.         0.21992235 0.6584649  0.87549112 1.\n",
            " 0.91043612 1.         0.39142685 0.4546772  0.         0.\n",
            " 0.         0.49631241 0.63591617 0.01893224 0.64737683 0.\n",
            " 0.79872003 0.54986265 0.59128877] -0.6\n",
            "New best for swarm at iteration 1: [0.54430799 0.95309944 0.98728686 0.93156388 0.         0.4813839\n",
            " 0.47995957 1.         0.11296644 0.88277119 1.         0.55162784\n",
            " 0.32173831 0.5648459  0.42835377 0.85017559 0.67141181 0.4911901\n",
            " 0.8739613  0.47065124 0.88150005] -0.6625\n",
            "New best for swarm at iteration 1: [0.41674957 1.         0.72682123 0.         0.64619644 0.77822426\n",
            " 0.31710083 0.02751108 0.75706734 0.68775189 0.72181689 0.40027469\n",
            " 1.         0.61012524 0.46053573 0.3330337  0.15306347 0.29035905\n",
            " 1.         0.16260388 0.77955733] -0.725\n",
            "New best for swarm at iteration 1: [0.34663245 0.55574179 0.30157184 0.61488353 1.         1.\n",
            " 0.         0.         0.87688844 0.98909983 0.         0.35948066\n",
            " 0.49089613 0.54070814 0.45210733 0.99898412 0.         0.59615771\n",
            " 0.7400826  0.66856535 0.48522392] -0.7375\n",
            "New best for swarm at iteration 1: [0.25686293 0.28479894 0.         1.         0.83233874 0.91617611\n",
            " 0.57465402 0.36512523 1.         0.55350158 1.         0.25563114\n",
            " 0.15804311 1.         0.32736625 1.         0.         0.\n",
            " 0.71230406 0.11377381 1.        ] -1.0\n",
            "Best after iteration 1: [0.25686293 0.28479894 0.         1.         0.83233874 0.91617611\n",
            " 0.57465402 0.36512523 1.         0.55350158 1.         0.25563114\n",
            " 0.15804311 1.         0.32736625 1.         0.         0.\n",
            " 0.71230406 0.11377381 1.        ] -1.0\n",
            "Best after iteration 2: [0.25686293 0.28479894 0.         1.         0.83233874 0.91617611\n",
            " 0.57465402 0.36512523 1.         0.55350158 1.         0.25563114\n",
            " 0.15804311 1.         0.32736625 1.         0.         0.\n",
            " 0.71230406 0.11377381 1.        ] -1.0\n",
            "Best after iteration 3: [0.25686293 0.28479894 0.         1.         0.83233874 0.91617611\n",
            " 0.57465402 0.36512523 1.         0.55350158 1.         0.25563114\n",
            " 0.15804311 1.         0.32736625 1.         0.         0.\n",
            " 0.71230406 0.11377381 1.        ] -1.0\n",
            "Best after iteration 4: [0.25686293 0.28479894 0.         1.         0.83233874 0.91617611\n",
            " 0.57465402 0.36512523 1.         0.55350158 1.         0.25563114\n",
            " 0.15804311 1.         0.32736625 1.         0.         0.\n",
            " 0.71230406 0.11377381 1.        ] -1.0\n",
            "Best after iteration 5: [0.25686293 0.28479894 0.         1.         0.83233874 0.91617611\n",
            " 0.57465402 0.36512523 1.         0.55350158 1.         0.25563114\n",
            " 0.15804311 1.         0.32736625 1.         0.         0.\n",
            " 0.71230406 0.11377381 1.        ] -1.0\n",
            "Best after iteration 6: [0.25686293 0.28479894 0.         1.         0.83233874 0.91617611\n",
            " 0.57465402 0.36512523 1.         0.55350158 1.         0.25563114\n",
            " 0.15804311 1.         0.32736625 1.         0.         0.\n",
            " 0.71230406 0.11377381 1.        ] -1.0\n",
            "Best after iteration 7: [0.25686293 0.28479894 0.         1.         0.83233874 0.91617611\n",
            " 0.57465402 0.36512523 1.         0.55350158 1.         0.25563114\n",
            " 0.15804311 1.         0.32736625 1.         0.         0.\n",
            " 0.71230406 0.11377381 1.        ] -1.0\n",
            "Best after iteration 8: [0.25686293 0.28479894 0.         1.         0.83233874 0.91617611\n",
            " 0.57465402 0.36512523 1.         0.55350158 1.         0.25563114\n",
            " 0.15804311 1.         0.32736625 1.         0.         0.\n",
            " 0.71230406 0.11377381 1.        ] -1.0\n",
            "Best after iteration 9: [0.25686293 0.28479894 0.         1.         0.83233874 0.91617611\n",
            " 0.57465402 0.36512523 1.         0.55350158 1.         0.25563114\n",
            " 0.15804311 1.         0.32736625 1.         0.         0.\n",
            " 0.71230406 0.11377381 1.        ] -1.0\n",
            "Best after iteration 10: [0.25686293 0.28479894 0.         1.         0.83233874 0.91617611\n",
            " 0.57465402 0.36512523 1.         0.55350158 1.         0.25563114\n",
            " 0.15804311 1.         0.32736625 1.         0.         0.\n",
            " 0.71230406 0.11377381 1.        ] -1.0\n",
            "Stopping search: maximum iterations reached --> 10\n"
          ]
        }
      ]
    },
    {
      "cell_type": "code",
      "source": [
        "# Extract selected features\n",
        "best_features = np.array(best_features).astype(int)\n",
        "selected_features_idx = np.where(best_features)[0]\n",
        "selected_features = X.columns[selected_features_idx]"
      ],
      "metadata": {
        "id": "MQ8HoOHQT5x6"
      },
      "execution_count": null,
      "outputs": []
    },
    {
      "cell_type": "code",
      "source": [
        "selected_features"
      ],
      "metadata": {
        "colab": {
          "base_uri": "https://localhost:8080/"
        },
        "id": "IwnldrrjURHb",
        "outputId": "43084b28-6c8c-461f-8b51-895782264df7"
      },
      "execution_count": null,
      "outputs": [
        {
          "output_type": "execute_result",
          "data": {
            "text/plain": [
              "Index(['sg', 'phos', 'alb', 'creatinine', 'uricacid', 'ane'], dtype='object')"
            ]
          },
          "metadata": {},
          "execution_count": 30
        }
      ]
    },
    {
      "cell_type": "code",
      "source": [
        "# Train a BPNN mlp classifier using selected features\n",
        "clf = MLPClassifier(hidden_layer_sizes=(10, ), max_iter=100, random_state=42)\n",
        "history = clf.fit(X_train_scaled[:, selected_features_idx], y_train)\n",
        "print(history)"
      ],
      "metadata": {
        "colab": {
          "base_uri": "https://localhost:8080/"
        },
        "id": "IqSh4zSkUIBZ",
        "outputId": "cc109665-d8a1-40ce-8c0d-2ca62b3d3275"
      },
      "execution_count": null,
      "outputs": [
        {
          "output_type": "stream",
          "name": "stdout",
          "text": [
            "MLPClassifier(hidden_layer_sizes=(10,), max_iter=100, random_state=42)\n"
          ]
        },
        {
          "output_type": "stream",
          "name": "stderr",
          "text": [
            "/usr/local/lib/python3.10/dist-packages/sklearn/neural_network/_multilayer_perceptron.py:686: ConvergenceWarning: Stochastic Optimizer: Maximum iterations (100) reached and the optimization hasn't converged yet.\n",
            "  warnings.warn(\n"
          ]
        }
      ]
    },
    {
      "cell_type": "code",
      "source": [
        "# Make predictions on the test set\n",
        "y_pred = clf.predict(X_test_scaled[:, selected_features_idx])"
      ],
      "metadata": {
        "id": "vqykNoYEUJSq"
      },
      "execution_count": null,
      "outputs": []
    },
    {
      "cell_type": "code",
      "source": [
        "# accuracy\n",
        "accuracy = accuracy_score(y_test, y_pred)\n",
        "classification_rep = classification_report(y_test, y_pred)"
      ],
      "metadata": {
        "id": "dYKKNFegULB3"
      },
      "execution_count": null,
      "outputs": []
    },
    {
      "cell_type": "code",
      "source": [
        "print(\"Selected Features:\", selected_features)\n",
        "print(\"\\nAccuracy:\", accuracy)\n",
        "print(\"\\nClassification Report:\\n\", classification_rep)"
      ],
      "metadata": {
        "colab": {
          "base_uri": "https://localhost:8080/"
        },
        "id": "uZmB7cryUMGL",
        "outputId": "86327db1-c0c2-4774-e326-17451b1995bd"
      },
      "execution_count": null,
      "outputs": [
        {
          "output_type": "stream",
          "name": "stdout",
          "text": [
            "Selected Features: Index(['sg', 'phos', 'alb', 'creatinine', 'uricacid', 'ane'], dtype='object')\n",
            "\n",
            "Accuracy: 0.96875\n",
            "\n",
            "Classification Report:\n",
            "               precision    recall  f1-score   support\n",
            "\n",
            "         ckd       0.94      0.98      0.96        60\n",
            "      notckd       0.99      0.96      0.97       100\n",
            "\n",
            "    accuracy                           0.97       160\n",
            "   macro avg       0.96      0.97      0.97       160\n",
            "weighted avg       0.97      0.97      0.97       160\n",
            "\n"
          ]
        }
      ]
    },
    {
      "cell_type": "code",
      "source": [
        "# predictions on training and testing data\n",
        "y_train_pred = clf.predict(X_train_scaled[:, selected_features_idx])\n",
        "y_test_pred = clf.predict(X_test_scaled[:, selected_features_idx])\n",
        "\n",
        "# performance on training and testing data\n",
        "train_accuracy = accuracy_score(y_train, y_train_pred)\n",
        "test_accuracy = accuracy_score(y_test, y_test_pred)\n",
        "\n",
        "print(\"Training Accuracy:\", train_accuracy)\n",
        "print(\"Testing Accuracy:\", test_accuracy)\n",
        "\n",
        "# Confusion Matrix and Classification Report for testing data\n",
        "conf_matrix = confusion_matrix(y_test, y_test_pred)\n",
        "classification_rep = classification_report(y_test, y_test_pred)\n",
        "\n",
        "print(\"\\nConfusion Matrix:\\n\", conf_matrix)\n",
        "print(\"\\nClassification Report:\\n\", classification_rep)"
      ],
      "metadata": {
        "colab": {
          "base_uri": "https://localhost:8080/"
        },
        "id": "RQsbzI67Vg2B",
        "outputId": "28837b57-629c-49a9-da34-3d9d7a06cd12"
      },
      "execution_count": null,
      "outputs": [
        {
          "output_type": "stream",
          "name": "stdout",
          "text": [
            "Training Accuracy: 0.9703125\n",
            "Testing Accuracy: 0.96875\n",
            "\n",
            "Confusion Matrix:\n",
            " [[59  1]\n",
            " [ 4 96]]\n",
            "\n",
            "Classification Report:\n",
            "               precision    recall  f1-score   support\n",
            "\n",
            "         ckd       0.94      0.98      0.96        60\n",
            "      notckd       0.99      0.96      0.97       100\n",
            "\n",
            "    accuracy                           0.97       160\n",
            "   macro avg       0.96      0.97      0.97       160\n",
            "weighted avg       0.97      0.97      0.97       160\n",
            "\n"
          ]
        }
      ]
    },
    {
      "cell_type": "code",
      "source": [
        "import matplotlib.pyplot as plt"
      ],
      "metadata": {
        "id": "u78BqTcoU9kK"
      },
      "execution_count": null,
      "outputs": []
    },
    {
      "cell_type": "code",
      "source": [
        "train_accuracy = np.array(history.loss_curve_)\n",
        "val_accuracy = np.array(history.validation_scores_)\n",
        "\n",
        "# Plot learning curves for both training and testing epochs\n",
        "plt.plot(train_accuracy, label='Training Loss')\n",
        "plt.plot(val_accuracy, label='Validation Loss')\n",
        "plt.title('Training and Validation Loss over Iterations')\n",
        "plt.xlabel('Iteration')\n",
        "plt.ylabel('Loss')\n",
        "plt.legend()\n",
        "plt.show()\n"
      ],
      "metadata": {
        "colab": {
          "base_uri": "https://localhost:8080/",
          "height": 472
        },
        "id": "HCr5wZB0U3GQ",
        "outputId": "58c2b415-5cbc-47cf-eb77-5469d2ed7249"
      },
      "execution_count": null,
      "outputs": [
        {
          "output_type": "display_data",
          "data": {
            "text/plain": [
              "<Figure size 640x480 with 1 Axes>"
            ],
            "image/png": "[encoded data removed]"
          },
          "metadata": {}
        }
      ]
    }
  ]
}